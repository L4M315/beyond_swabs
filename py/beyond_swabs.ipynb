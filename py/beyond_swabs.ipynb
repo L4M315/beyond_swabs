{
 "cells": [
  {
   "metadata": {},
   "cell_type": "markdown",
   "source": [
    "**Beyond Swabs**\n",
    "A Mortality-anchored Method To Estimate True Covid-19 Infections\n",
    "\n",
    "Deaths are harder to miss than infections. Can we use confirmed deaths to determine how many cases we missed during the pandemic?"
   ],
   "id": "3619961ad2d04450",
   "attachments": {
    "eea87537-3259-4494-85e3-d1725870626a.png": {
     "image/png": "[encoded data removed]"
    }
   }
  },
  {
   "metadata": {},
   "cell_type": "markdown",
   "source": "**SECTION 1** - Let's do some data wrangling",
   "id": "18ba7674dd25bc1a"
  },
  {
   "metadata": {
    "collapsed": true,
    "ExecuteTime": {
     "end_time": "2025-08-27T16:19:10.478194Z",
     "start_time": "2025-08-27T16:19:10.475773Z"
    }
   },
   "cell_type": "code",
   "source": [
    "# libraries\n",
    "import pandas as pd\n",
    "import numpy as np"
   ],
   "id": "9024e36c03399c16",
   "outputs": [],
   "execution_count": 2
  },
  {
   "metadata": {
    "ExecuteTime": {
     "end_time": "2025-08-27T16:19:11.672379Z",
     "start_time": "2025-08-27T16:19:11.669629Z"
    }
   },
   "cell_type": "code",
   "source": [
    "# file paths for the jhu files that contain cumulative counts for cases and deaths\n",
    "f_cases  = \"data_raw/time_series_covid19_confirmed_global.csv\"\n",
    "f_deaths = \"data_raw/time_series_covid19_deaths_global.csv\"\n",
    "\n",
    "# the countries I chose for the poster\n",
    "countries = [\"united kingdom\", \"italy\", \"france\", \"saudi arabia\"]"
   ],
   "id": "332f3614441d7fa0",
   "outputs": [],
   "execution_count": 3
  },
  {
   "metadata": {
    "ExecuteTime": {
     "end_time": "2025-08-27T16:19:12.840519Z",
     "start_time": "2025-08-27T16:19:12.797321Z"
    }
   },
   "cell_type": "code",
   "source": [
    "# read the data, it is a wide table and I will turn it in the next step to a long table\n",
    "cases_raw  = pd.read_csv(f_cases)\n",
    "deaths_raw = pd.read_csv(f_deaths)"
   ],
   "id": "219cc60740937ded",
   "outputs": [],
   "execution_count": 4
  },
  {
   "metadata": {
    "ExecuteTime": {
     "end_time": "2025-08-27T16:19:14.303972Z",
     "start_time": "2025-08-27T16:19:14.300647Z"
    }
   },
   "cell_type": "code",
   "source": [
    "\"\"\"\n",
    "turn the wide jhu table into a tidy daily table:\n",
    "- melt wide date columns to rows\n",
    "- parse date\n",
    "- sum provinces to country-day\n",
    "- compute daily counts by differencing the cumulative\n",
    "\"\"\"\n",
    "\n",
    "def tidy_jhu(df):\n",
    "\n",
    "    id_cols = [\"Province/State\", \"Country/Region\", \"Lat\", \"Long\"]\n",
    "    long = df.melt(id_vars=id_cols, var_name=\"date\", value_name=\"cum\")\n",
    "    long[\"date\"] = pd.to_datetime(long[\"date\"], format=\"%m/%d/%y\")\n",
    "\n",
    "    # sum provinces to country level by day\n",
    "    long = (\n",
    "        long.groupby([\"Country/Region\", \"date\"], as_index=False)[\"cum\"]\n",
    "            .sum()\n",
    "            .rename(columns={\"Country/Region\": \"country\"})\n",
    "            .sort_values([\"country\", \"date\"])\n",
    "    )\n",
    "\n",
    "    # compute daily incident counts from cumulative\n",
    "    long[\"daily\"] = (\n",
    "        long.groupby(\"country\")[\"cum\"].diff().fillna(0).clip(lower=0)\n",
    "        # clip prevents negative dips from data revisions\n",
    "    )\n",
    "\n",
    "    long[\"country\"] = long[\"country\"].str.lower()\n",
    "\n",
    "    return long\n"
   ],
   "id": "cbc1c4745e3f19a9",
   "outputs": [],
   "execution_count": 5
  },
  {
   "metadata": {
    "ExecuteTime": {
     "end_time": "2025-08-27T16:19:16.341574Z",
     "start_time": "2025-08-27T16:19:16.074751Z"
    }
   },
   "cell_type": "code",
   "source": [
    "# running the tidy_jhu function\n",
    "cases_long  = tidy_jhu(cases_raw)\n",
    "deaths_long = tidy_jhu(deaths_raw).rename(columns={\"daily\": \"daily_deaths\",\n",
    "                                                   \"cum\": \"cum_deaths\"})"
   ],
   "id": "f9a16427613b8c49",
   "outputs": [],
   "execution_count": 6
  },
  {
   "metadata": {
    "ExecuteTime": {
     "end_time": "2025-08-27T16:19:17.142034Z",
     "start_time": "2025-08-27T16:19:17.137868Z"
    }
   },
   "cell_type": "code",
   "source": [
    "# just checking the dates are correct\n",
    "print(cases_long[\"date\"].min(), cases_long[\"date\"].max())\n",
    "print(deaths_long[\"date\"].min(), deaths_long[\"date\"].max())"
   ],
   "id": "20cd156b8fae3bab",
   "outputs": [
    {
     "name": "stdout",
     "output_type": "stream",
     "text": [
      "2020-01-22 00:00:00 2023-03-09 00:00:00\n",
      "2020-01-22 00:00:00 2023-03-09 00:00:00\n"
     ]
    }
   ],
   "execution_count": 7
  },
  {
   "metadata": {
    "ExecuteTime": {
     "end_time": "2025-08-27T16:19:18.575040Z",
     "start_time": "2025-08-27T16:19:18.557826Z"
    }
   },
   "cell_type": "code",
   "source": [
    "# keeping only the countries we previously selected\n",
    "cases_long  = cases_long[cases_long[\"country\"].isin(countries)].copy()\n",
    "deaths_long = deaths_long[deaths_long[\"country\"].isin(countries)].copy()"
   ],
   "id": "712c67319c9ba823",
   "outputs": [],
   "execution_count": 8
  },
  {
   "metadata": {
    "ExecuteTime": {
     "end_time": "2025-08-27T16:19:19.689846Z",
     "start_time": "2025-08-27T16:19:19.671597Z"
    }
   },
   "cell_type": "code",
   "source": [
    "# turn our daily data to weekly data, so the plots look much better later\n",
    "wk_cases = (\n",
    "    cases_long.loc[:, [\"country\", \"date\", \"daily\"]]\n",
    "    .set_index(\"date\")\n",
    "    .groupby(\"country\")\n",
    "    .resample(\"W-SUN\")[\"daily\"]\n",
    "    .sum()\n",
    "    .reset_index()\n",
    "    .rename(columns={\"date\": \"week\", \"daily\": \"cases_w\"})\n",
    ")\n",
    "\n",
    "wk_deaths = (\n",
    "    deaths_long.loc[:, [\"country\", \"date\", \"daily_deaths\"]]\n",
    "    .set_index(\"date\")\n",
    "    .groupby(\"country\")\n",
    "    .resample(\"W-SUN\")[\"daily_deaths\"]\n",
    "    .sum()\n",
    "    .reset_index()\n",
    "    .rename(columns={\"date\": \"week\", \"daily_deaths\": \"deaths_w\"})\n",
    ")"
   ],
   "id": "f63531edbb7899bb",
   "outputs": [],
   "execution_count": 9
  },
  {
   "metadata": {
    "ExecuteTime": {
     "end_time": "2025-08-27T16:19:21.507718Z",
     "start_time": "2025-08-27T16:19:21.505230Z"
    }
   },
   "cell_type": "code",
   "source": [
    "# checking everything is fine before the merge\n",
    "print(\"wk_cases cols:\", wk_cases.columns.tolist())\n",
    "print(\"wk_deaths cols:\", wk_deaths.columns.tolist())"
   ],
   "id": "64c77a7e760b6496",
   "outputs": [
    {
     "name": "stdout",
     "output_type": "stream",
     "text": [
      "wk_cases cols: ['country', 'week', 'cases_w']\n",
      "wk_deaths cols: ['country', 'week', 'deaths_w']\n"
     ]
    }
   ],
   "execution_count": 10
  },
  {
   "metadata": {
    "ExecuteTime": {
     "end_time": "2025-08-27T16:19:22.619273Z",
     "start_time": "2025-08-27T16:19:22.614772Z"
    }
   },
   "cell_type": "code",
   "source": [
    "# now we merge\n",
    "wk = (\n",
    "    wk_cases.merge(wk_deaths, on=[\"country\", \"week\"], how=\"outer\")\n",
    "            .sort_values([\"country\", \"week\"])\n",
    ")\n",
    "\n",
    "# filling missing values with zero\n",
    "wk[[\"cases_w\", \"deaths_w\"]] = wk[[\"cases_w\", \"deaths_w\"]].fillna(0)"
   ],
   "id": "fc4795985115ab1f",
   "outputs": [],
   "execution_count": 11
  },
  {
   "metadata": {},
   "cell_type": "markdown",
   "source": [
    "In the poster, I stated that I will be using a delay of 14 days (~2 weeks) to calculate the dCFR.\n",
    "The code for the plots I used to estimate the delay period (by eye) was done in R, and it can be found at R/detecting_the_delay.R\n"
   ],
   "id": "b5d138177487e7fa"
  },
  {
   "metadata": {
    "ExecuteTime": {
     "end_time": "2025-08-27T16:19:24.054003Z",
     "start_time": "2025-08-27T16:19:24.050957Z"
    }
   },
   "cell_type": "code",
   "source": [
    "# 14-day delay ≈ shift deaths backward 2 weeks\n",
    "wk[\"deaths_w_back2w\"] = wk.groupby(\"country\")[\"deaths_w\"].shift(-2)"
   ],
   "id": "325a22df10849810",
   "outputs": [],
   "execution_count": 12
  },
  {
   "metadata": {
    "ExecuteTime": {
     "end_time": "2025-08-27T16:19:24.952697Z",
     "start_time": "2025-08-27T16:19:24.949692Z"
    }
   },
   "cell_type": "code",
   "source": [
    "# dCFR for week t now means: deaths at t+2 divided by cases at t\n",
    "wk[\"dcfr\"] = np.where(wk[\"cases_w\"] > 0, wk[\"deaths_w_back2w\"] / wk[\"cases_w\"], np.nan)"
   ],
   "id": "8445434021f46459",
   "outputs": [],
   "execution_count": 13
  },
  {
   "metadata": {
    "ExecuteTime": {
     "end_time": "2025-08-27T16:19:26.278377Z",
     "start_time": "2025-08-27T16:19:26.275615Z"
    }
   },
   "cell_type": "code",
   "source": [
    "# we can't backshift the last 2 weeks, so might as well drop them\n",
    "wk = wk[wk[\"deaths_w_back2w\"].notna()].copy()"
   ],
   "id": "2e4c8220b398d92c",
   "outputs": [],
   "execution_count": 14
  },
  {
   "metadata": {
    "ExecuteTime": {
     "end_time": "2025-08-27T16:19:27.177361Z",
     "start_time": "2025-08-27T16:19:27.171878Z"
    }
   },
   "cell_type": "code",
   "source": [
    "# save the long table with dCFR\n",
    "wk.to_csv(\"data_output/jhu_weekly_tidy.csv\", index=False)"
   ],
   "id": "cfe8f3c3908554a3",
   "outputs": [],
   "execution_count": 15
  },
  {
   "metadata": {},
   "cell_type": "markdown",
   "source": "**SECTION 2** — weekly age-standardized IFR and true infections",
   "id": "2329354cd42ccffa"
  },
  {
   "metadata": {
    "ExecuteTime": {
     "end_time": "2025-08-27T16:19:28.487269Z",
     "start_time": "2025-08-27T16:19:28.485144Z"
    }
   },
   "cell_type": "code",
   "source": [
    "# inputs:\n",
    "#   data_output/jhu_weekly_tidy.csv         (from section 1)\n",
    "#   data_raw/ifr_age_date.xlsx              (Ward et al. age-specific IFR over time)\n",
    "#   data_raw/age_distribution.csv           (selected countries age_groups)\n",
    "# output:\n",
    "#   data_output/est_infections_weekly.csv   (everything in one table)"
   ],
   "id": "54ebf9275b0676f4",
   "outputs": [],
   "execution_count": 16
  },
  {
   "metadata": {
    "ExecuteTime": {
     "end_time": "2025-08-27T16:19:29.487339Z",
     "start_time": "2025-08-27T16:19:29.373954Z"
    }
   },
   "cell_type": "code",
   "source": [
    "# load the IFR values\n",
    "ifr_raw = pd.read_excel(\"data_raw/ifr_age_date.xlsx\")\n",
    "\n",
    "# make all countries in lowercase\n",
    "ifr_raw.columns = [c.strip().lower() for c in ifr_raw.columns]\n",
    "\n",
    "# renaming columns because I don't like them the way they are\n",
    "ifr_raw.rename(columns={'mid_date': 'date',\n",
    "                        'category': 'age_group',\n",
    "                        'rate_lower': 'ifr_low',\n",
    "                        'rate_upper': 'ifr_high',\n",
    "                        'rate_median': 'ifr_med'},\n",
    "               inplace=True)\n",
    "\n",
    "ifr_raw"
   ],
   "id": "fd99c598a917fc1b",
   "outputs": [
    {
     "data": {
      "text/plain": [
       "          date age_group   ifr_low  ifr_high   ifr_med\n",
       "0   2020-11-08     25-44  0.000216  0.000425  0.000302\n",
       "1   2021-01-03     25-44  0.000269  0.000511  0.000373\n",
       "2   2021-01-31     25-44  0.000286  0.000548  0.000401\n",
       "3   2021-03-14     25-44  0.000279  0.000549  0.000391\n",
       "4   2021-04-11     25-44  0.000252  0.000513  0.000356\n",
       "..         ...       ...       ...       ...       ...\n",
       "224 2022-12-18       75+  0.004412  0.008860  0.006313\n",
       "225 2023-01-01       75+  0.005159  0.009447  0.007020\n",
       "226 2023-01-15       75+  0.005749  0.011148  0.008017\n",
       "227 2023-01-29       75+  0.005505  0.010675  0.007746\n",
       "228 2023-02-12       75+  0.004343  0.011152  0.006838\n",
       "\n",
       "[229 rows x 5 columns]"
      ],
      "text/html": [
       "<div>\n",
       "<style scoped>\n",
       "    .dataframe tbody tr th:only-of-type {\n",
       "        vertical-align: middle;\n",
       "    }\n",
       "\n",
       "    .dataframe tbody tr th {\n",
       "        vertical-align: top;\n",
       "    }\n",
       "\n",
       "    .dataframe thead th {\n",
       "        text-align: right;\n",
       "    }\n",
       "</style>\n",
       "<table border=\"1\" class=\"dataframe\">\n",
       "  <thead>\n",
       "    <tr style=\"text-align: right;\">\n",
       "      <th></th>\n",
       "      <th>date</th>\n",
       "      <th>age_group</th>\n",
       "      <th>ifr_low</th>\n",
       "      <th>ifr_high</th>\n",
       "      <th>ifr_med</th>\n",
       "    </tr>\n",
       "  </thead>\n",
       "  <tbody>\n",
       "    <tr>\n",
       "      <th>0</th>\n",
       "      <td>2020-11-08</td>\n",
       "      <td>25-44</td>\n",
       "      <td>0.000216</td>\n",
       "      <td>0.000425</td>\n",
       "      <td>0.000302</td>\n",
       "    </tr>\n",
       "    <tr>\n",
       "      <th>1</th>\n",
       "      <td>2021-01-03</td>\n",
       "      <td>25-44</td>\n",
       "      <td>0.000269</td>\n",
       "      <td>0.000511</td>\n",
       "      <td>0.000373</td>\n",
       "    </tr>\n",
       "    <tr>\n",
       "      <th>2</th>\n",
       "      <td>2021-01-31</td>\n",
       "      <td>25-44</td>\n",
       "      <td>0.000286</td>\n",
       "      <td>0.000548</td>\n",
       "      <td>0.000401</td>\n",
       "    </tr>\n",
       "    <tr>\n",
       "      <th>3</th>\n",
       "      <td>2021-03-14</td>\n",
       "      <td>25-44</td>\n",
       "      <td>0.000279</td>\n",
       "      <td>0.000549</td>\n",
       "      <td>0.000391</td>\n",
       "    </tr>\n",
       "    <tr>\n",
       "      <th>4</th>\n",
       "      <td>2021-04-11</td>\n",
       "      <td>25-44</td>\n",
       "      <td>0.000252</td>\n",
       "      <td>0.000513</td>\n",
       "      <td>0.000356</td>\n",
       "    </tr>\n",
       "    <tr>\n",
       "      <th>...</th>\n",
       "      <td>...</td>\n",
       "      <td>...</td>\n",
       "      <td>...</td>\n",
       "      <td>...</td>\n",
       "      <td>...</td>\n",
       "    </tr>\n",
       "    <tr>\n",
       "      <th>224</th>\n",
       "      <td>2022-12-18</td>\n",
       "      <td>75+</td>\n",
       "      <td>0.004412</td>\n",
       "      <td>0.008860</td>\n",
       "      <td>0.006313</td>\n",
       "    </tr>\n",
       "    <tr>\n",
       "      <th>225</th>\n",
       "      <td>2023-01-01</td>\n",
       "      <td>75+</td>\n",
       "      <td>0.005159</td>\n",
       "      <td>0.009447</td>\n",
       "      <td>0.007020</td>\n",
       "    </tr>\n",
       "    <tr>\n",
       "      <th>226</th>\n",
       "      <td>2023-01-15</td>\n",
       "      <td>75+</td>\n",
       "      <td>0.005749</td>\n",
       "      <td>0.011148</td>\n",
       "      <td>0.008017</td>\n",
       "    </tr>\n",
       "    <tr>\n",
       "      <th>227</th>\n",
       "      <td>2023-01-29</td>\n",
       "      <td>75+</td>\n",
       "      <td>0.005505</td>\n",
       "      <td>0.010675</td>\n",
       "      <td>0.007746</td>\n",
       "    </tr>\n",
       "    <tr>\n",
       "      <th>228</th>\n",
       "      <td>2023-02-12</td>\n",
       "      <td>75+</td>\n",
       "      <td>0.004343</td>\n",
       "      <td>0.011152</td>\n",
       "      <td>0.006838</td>\n",
       "    </tr>\n",
       "  </tbody>\n",
       "</table>\n",
       "<p>229 rows × 5 columns</p>\n",
       "</div>"
      ]
     },
     "execution_count": 17,
     "metadata": {},
     "output_type": "execute_result"
    }
   ],
   "execution_count": 17
  },
  {
   "metadata": {
    "ExecuteTime": {
     "end_time": "2025-08-27T16:19:31.972585Z",
     "start_time": "2025-08-27T16:19:31.969507Z"
    }
   },
   "cell_type": "code",
   "source": [
    "ifr = ifr_raw.loc[:, [\"date\", \"age_group\", \"ifr_low\", \"ifr_med\", \"ifr_high\"]].copy()\n",
    "ifr[\"date\"] = pd.to_datetime(ifr[\"date\"])\n",
    "ifr[\"age_group\"] = ifr[\"age_group\"].astype(str).str.strip()"
   ],
   "id": "b15afa793d499aee",
   "outputs": [],
   "execution_count": 18
  },
  {
   "metadata": {
    "ExecuteTime": {
     "end_time": "2025-08-27T16:19:33.496299Z",
     "start_time": "2025-08-27T16:19:33.493336Z"
    }
   },
   "cell_type": "code",
   "source": [
    "# forward-fill each of low/med/high onto the weekly index we actually use\n",
    "week_index = np.sort(wk[\"week\"].unique())\n",
    "\n",
    "def make_weekly_long(source_df, value_col):\n",
    "    pvt = (source_df\n",
    "           .pivot(index=\"date\", columns=\"age_group\", values=value_col)\n",
    "           .sort_index())\n",
    "    pvt_w = pvt.reindex(week_index, method=\"ffill\")\n",
    "    out = (pvt_w\n",
    "           .stack()\n",
    "           .rename_axis([\"week\", \"age_group\"])\n",
    "           .reset_index(name=value_col)\n",
    "    )\n",
    "\n",
    "    out[\"week\"] = pd.to_datetime(out[\"week\"])\n",
    "    out[\"age_group\"] = out[\"age_group\"].astype(\"string\").str.strip()\n",
    "\n",
    "    return out"
   ],
   "id": "b02cb81b36707fe4",
   "outputs": [],
   "execution_count": 19
  },
  {
   "metadata": {
    "ExecuteTime": {
     "end_time": "2025-08-27T16:19:34.802892Z",
     "start_time": "2025-08-27T16:19:34.791433Z"
    }
   },
   "cell_type": "code",
   "source": [
    "ifr_med_week  = make_weekly_long(ifr, \"ifr_med\")\n",
    "ifr_low_week  = make_weekly_long(ifr, \"ifr_low\")\n",
    "ifr_high_week = make_weekly_long(ifr, \"ifr_high\")"
   ],
   "id": "da92e4079c7ad554",
   "outputs": [],
   "execution_count": 20
  },
  {
   "metadata": {
    "ExecuteTime": {
     "end_time": "2025-08-27T16:19:35.610553Z",
     "start_time": "2025-08-27T16:19:35.606267Z"
    }
   },
   "cell_type": "code",
   "source": [
    "# load age distribution per country\n",
    "age_raw = pd.read_csv(\"data_raw/age_distribution.csv\")\n",
    "\n",
    "age_raw.rename(columns={'Region, subregion, country or area *': 'country'}, inplace=True)\n",
    "age_raw[\"country\"] = age_raw[\"country\"].str.lower()"
   ],
   "id": "7c537ac7f06c9d09",
   "outputs": [],
   "execution_count": 21
  },
  {
   "metadata": {},
   "cell_type": "markdown",
   "source": "Now, I have 2 files with different age groups that I need to do some calculations on. In order to do that, they both must have the same age groups.",
   "id": "338668afdff82081"
  },
  {
   "metadata": {
    "ExecuteTime": {
     "end_time": "2025-08-27T16:19:36.821011Z",
     "start_time": "2025-08-27T16:19:36.817827Z"
    }
   },
   "cell_type": "code",
   "source": [
    "print(ifr['age_group'].unique())\n",
    "\n",
    "print(len(ifr['age_group'].unique()))\n",
    "# 6 age groups in ifr table"
   ],
   "id": "f16aaf95c706a620",
   "outputs": [
    {
     "name": "stdout",
     "output_type": "stream",
     "text": [
      "['25-44' '45-54' '55-64' '6-24' '65-74' '75+']\n",
      "6\n"
     ]
    }
   ],
   "execution_count": 22
  },
  {
   "metadata": {
    "ExecuteTime": {
     "end_time": "2025-08-27T16:19:38.597369Z",
     "start_time": "2025-08-27T16:19:38.594698Z"
    }
   },
   "cell_type": "code",
   "source": [
    "print(age_raw.columns[-21:])\n",
    "\n",
    "print(len(age_raw.columns[-21:]))\n",
    "# 21 age groups in age_raw"
   ],
   "id": "d795f26258950cf2",
   "outputs": [
    {
     "name": "stdout",
     "output_type": "stream",
     "text": [
      "Index(['0-4', '5-9', '10-14', '15-19', '20-24', '25-29', '30-34', '35-39',\n",
      "       '40-44', '45-49', '50-54', '55-59', '60-64', '65-69', '70-74', '75-79',\n",
      "       '80-84', '85-89', '90-94', '95-99', '100+'],\n",
      "      dtype='object')\n",
      "21\n"
     ]
    }
   ],
   "execution_count": 23
  },
  {
   "metadata": {
    "ExecuteTime": {
     "end_time": "2025-08-27T16:19:40.122159Z",
     "start_time": "2025-08-27T16:19:40.117670Z"
    }
   },
   "cell_type": "code",
   "source": [
    "# match the age_raw age groups with the six IFR age groups\n",
    "#    6–24  = (5–9) + (10–14) + (15–19) + (20–24)\n",
    "#    25–44 = (25–29) + (30–34) + (35–39) + (40–44)\n",
    "#    45–54 = (45–49) + (50–54)\n",
    "#    55–64 = (55–59) + (60–64)\n",
    "#    65–74 = (65–69) + (70–74)\n",
    "#    75+   = (75–79) + (80–84) + (85–89) + (90–94) + (95–99) + (100+)\n",
    "\n",
    "age_raw[\"grp_6_24\"]  = age_raw[\"5-9\"] + age_raw[\"10-14\"] + age_raw[\"15-19\"] + age_raw[\"20-24\"]\n",
    "age_raw[\"grp_25_44\"] = age_raw[\"25-29\"] + age_raw[\"30-34\"] + age_raw[\"35-39\"] + age_raw[\"40-44\"]\n",
    "age_raw[\"grp_45_54\"] = age_raw[\"45-49\"] + age_raw[\"50-54\"]\n",
    "age_raw[\"grp_55_64\"] = age_raw[\"55-59\"] + age_raw[\"60-64\"]\n",
    "age_raw[\"grp_65_74\"] = age_raw[\"65-69\"] + age_raw[\"70-74\"]\n",
    "age_raw[\"grp_75p\"]   = (age_raw[\"75-79\"] + age_raw[\"80-84\"] + age_raw[\"85-89\"] +\n",
    "                        age_raw[\"90-94\"] + age_raw[\"95-99\"] + age_raw[\"100+\"])"
   ],
   "id": "e60407fb8d3e2c83",
   "outputs": [],
   "execution_count": 24
  },
  {
   "metadata": {
    "ExecuteTime": {
     "end_time": "2025-08-27T16:19:41.468234Z",
     "start_time": "2025-08-27T16:19:41.462860Z"
    }
   },
   "cell_type": "code",
   "source": [
    "# this is a new table that contains the new age groups per country, looks neat\n",
    "\n",
    "shares = pd.DataFrame({\n",
    "    \"country\": age_raw[\"country\"],\n",
    "    \"6-24\":  age_raw[\"grp_6_24\"],\n",
    "    \"25-44\": age_raw[\"grp_25_44\"],\n",
    "    \"45-54\": age_raw[\"grp_45_54\"],\n",
    "    \"55-64\": age_raw[\"grp_55_64\"],\n",
    "    \"65-74\": age_raw[\"grp_65_74\"],\n",
    "    \"75+\":   age_raw[\"grp_75p\"],\n",
    "})\n",
    "\n",
    "shares"
   ],
   "id": "6ab603e94192edf2",
   "outputs": [
    {
     "data": {
      "text/plain": [
       "          country        6-24       25-44      45-54      55-64      65-74  \\\n",
       "0    saudi arabia   9680.2630  13075.3285  3154.4705  1541.5095   521.3500   \n",
       "1  united kingdom  16188.2745  17631.1310  8989.1310  8189.7965  6763.8440   \n",
       "2           italy  11296.9985  14162.0150  9605.4935  8595.2300  6884.1830   \n",
       "3          france  15884.8370  15763.8105  8677.6300  8381.1470  7390.5495   \n",
       "\n",
       "         75+  \n",
       "0   260.4285  \n",
       "1  5767.5055  \n",
       "2  7122.9630  \n",
       "3  6283.1090  "
      ],
      "text/html": [
       "<div>\n",
       "<style scoped>\n",
       "    .dataframe tbody tr th:only-of-type {\n",
       "        vertical-align: middle;\n",
       "    }\n",
       "\n",
       "    .dataframe tbody tr th {\n",
       "        vertical-align: top;\n",
       "    }\n",
       "\n",
       "    .dataframe thead th {\n",
       "        text-align: right;\n",
       "    }\n",
       "</style>\n",
       "<table border=\"1\" class=\"dataframe\">\n",
       "  <thead>\n",
       "    <tr style=\"text-align: right;\">\n",
       "      <th></th>\n",
       "      <th>country</th>\n",
       "      <th>6-24</th>\n",
       "      <th>25-44</th>\n",
       "      <th>45-54</th>\n",
       "      <th>55-64</th>\n",
       "      <th>65-74</th>\n",
       "      <th>75+</th>\n",
       "    </tr>\n",
       "  </thead>\n",
       "  <tbody>\n",
       "    <tr>\n",
       "      <th>0</th>\n",
       "      <td>saudi arabia</td>\n",
       "      <td>9680.2630</td>\n",
       "      <td>13075.3285</td>\n",
       "      <td>3154.4705</td>\n",
       "      <td>1541.5095</td>\n",
       "      <td>521.3500</td>\n",
       "      <td>260.4285</td>\n",
       "    </tr>\n",
       "    <tr>\n",
       "      <th>1</th>\n",
       "      <td>united kingdom</td>\n",
       "      <td>16188.2745</td>\n",
       "      <td>17631.1310</td>\n",
       "      <td>8989.1310</td>\n",
       "      <td>8189.7965</td>\n",
       "      <td>6763.8440</td>\n",
       "      <td>5767.5055</td>\n",
       "    </tr>\n",
       "    <tr>\n",
       "      <th>2</th>\n",
       "      <td>italy</td>\n",
       "      <td>11296.9985</td>\n",
       "      <td>14162.0150</td>\n",
       "      <td>9605.4935</td>\n",
       "      <td>8595.2300</td>\n",
       "      <td>6884.1830</td>\n",
       "      <td>7122.9630</td>\n",
       "    </tr>\n",
       "    <tr>\n",
       "      <th>3</th>\n",
       "      <td>france</td>\n",
       "      <td>15884.8370</td>\n",
       "      <td>15763.8105</td>\n",
       "      <td>8677.6300</td>\n",
       "      <td>8381.1470</td>\n",
       "      <td>7390.5495</td>\n",
       "      <td>6283.1090</td>\n",
       "    </tr>\n",
       "  </tbody>\n",
       "</table>\n",
       "</div>"
      ]
     },
     "execution_count": 25,
     "metadata": {},
     "output_type": "execute_result"
    }
   ],
   "execution_count": 25
  },
  {
   "metadata": {
    "ExecuteTime": {
     "end_time": "2025-08-27T16:19:46.650278Z",
     "start_time": "2025-08-27T16:19:46.646080Z"
    }
   },
   "cell_type": "code",
   "source": [
    "# normalize the six age-bin counts into shares (proportions) that sum to 1 for each country (since we ignored the 0-4 age group because of lack of IFR data)\n",
    "tot = shares[[\"6-24\",\"25-44\",\"45-54\",\"55-64\",\"65-74\",\"75+\"]].sum(axis=1)\n",
    "shares[[\"6-24\",\"25-44\",\"45-54\",\"55-64\",\"65-74\",\"75+\"]] = shares[[\"6-24\",\"25-44\",\"45-54\",\"55-64\",\"65-74\",\"75+\"]].div(tot, axis=0)"
   ],
   "id": "32a4d6334c1e7eb9",
   "outputs": [],
   "execution_count": 26
  },
  {
   "metadata": {
    "ExecuteTime": {
     "end_time": "2025-08-27T16:19:48.196030Z",
     "start_time": "2025-08-27T16:19:48.189666Z"
    }
   },
   "cell_type": "code",
   "source": [
    "# tidy long form for merging with ifr later ['country', 'age_group', 'share']\n",
    "\n",
    "age = shares.melt(id_vars=\"country\", var_name=\"age_group\", value_name=\"share\")\n",
    "age[\"age_group\"] = age[\"age_group\"].astype(str).str.strip()\n",
    "\n",
    "age"
   ],
   "id": "1f59da46efac7480",
   "outputs": [
    {
     "data": {
      "text/plain": [
       "           country age_group     share\n",
       "0     saudi arabia      6-24  0.342866\n",
       "1   united kingdom      6-24  0.254814\n",
       "2            italy      6-24  0.195901\n",
       "3           france      6-24  0.254642\n",
       "4     saudi arabia     25-44  0.463116\n",
       "5   united kingdom     25-44  0.277526\n",
       "6            italy     25-44  0.245583\n",
       "7           france     25-44  0.252702\n",
       "8     saudi arabia     45-54  0.111729\n",
       "9   united kingdom     45-54  0.141495\n",
       "10           italy     45-54  0.166569\n",
       "11          france     45-54  0.139107\n",
       "12    saudi arabia     55-64  0.054599\n",
       "13  united kingdom     55-64  0.128913\n",
       "14           italy     55-64  0.149050\n",
       "15          france     55-64  0.134354\n",
       "16    saudi arabia     65-74  0.018466\n",
       "17  united kingdom     65-74  0.106467\n",
       "18           italy     65-74  0.119378\n",
       "19          france     65-74  0.118474\n",
       "20    saudi arabia       75+  0.009224\n",
       "21  united kingdom       75+  0.090784\n",
       "22           italy       75+  0.123519\n",
       "23          france       75+  0.100721"
      ],
      "text/html": [
       "<div>\n",
       "<style scoped>\n",
       "    .dataframe tbody tr th:only-of-type {\n",
       "        vertical-align: middle;\n",
       "    }\n",
       "\n",
       "    .dataframe tbody tr th {\n",
       "        vertical-align: top;\n",
       "    }\n",
       "\n",
       "    .dataframe thead th {\n",
       "        text-align: right;\n",
       "    }\n",
       "</style>\n",
       "<table border=\"1\" class=\"dataframe\">\n",
       "  <thead>\n",
       "    <tr style=\"text-align: right;\">\n",
       "      <th></th>\n",
       "      <th>country</th>\n",
       "      <th>age_group</th>\n",
       "      <th>share</th>\n",
       "    </tr>\n",
       "  </thead>\n",
       "  <tbody>\n",
       "    <tr>\n",
       "      <th>0</th>\n",
       "      <td>saudi arabia</td>\n",
       "      <td>6-24</td>\n",
       "      <td>0.342866</td>\n",
       "    </tr>\n",
       "    <tr>\n",
       "      <th>1</th>\n",
       "      <td>united kingdom</td>\n",
       "      <td>6-24</td>\n",
       "      <td>0.254814</td>\n",
       "    </tr>\n",
       "    <tr>\n",
       "      <th>2</th>\n",
       "      <td>italy</td>\n",
       "      <td>6-24</td>\n",
       "      <td>0.195901</td>\n",
       "    </tr>\n",
       "    <tr>\n",
       "      <th>3</th>\n",
       "      <td>france</td>\n",
       "      <td>6-24</td>\n",
       "      <td>0.254642</td>\n",
       "    </tr>\n",
       "    <tr>\n",
       "      <th>4</th>\n",
       "      <td>saudi arabia</td>\n",
       "      <td>25-44</td>\n",
       "      <td>0.463116</td>\n",
       "    </tr>\n",
       "    <tr>\n",
       "      <th>5</th>\n",
       "      <td>united kingdom</td>\n",
       "      <td>25-44</td>\n",
       "      <td>0.277526</td>\n",
       "    </tr>\n",
       "    <tr>\n",
       "      <th>6</th>\n",
       "      <td>italy</td>\n",
       "      <td>25-44</td>\n",
       "      <td>0.245583</td>\n",
       "    </tr>\n",
       "    <tr>\n",
       "      <th>7</th>\n",
       "      <td>france</td>\n",
       "      <td>25-44</td>\n",
       "      <td>0.252702</td>\n",
       "    </tr>\n",
       "    <tr>\n",
       "      <th>8</th>\n",
       "      <td>saudi arabia</td>\n",
       "      <td>45-54</td>\n",
       "      <td>0.111729</td>\n",
       "    </tr>\n",
       "    <tr>\n",
       "      <th>9</th>\n",
       "      <td>united kingdom</td>\n",
       "      <td>45-54</td>\n",
       "      <td>0.141495</td>\n",
       "    </tr>\n",
       "    <tr>\n",
       "      <th>10</th>\n",
       "      <td>italy</td>\n",
       "      <td>45-54</td>\n",
       "      <td>0.166569</td>\n",
       "    </tr>\n",
       "    <tr>\n",
       "      <th>11</th>\n",
       "      <td>france</td>\n",
       "      <td>45-54</td>\n",
       "      <td>0.139107</td>\n",
       "    </tr>\n",
       "    <tr>\n",
       "      <th>12</th>\n",
       "      <td>saudi arabia</td>\n",
       "      <td>55-64</td>\n",
       "      <td>0.054599</td>\n",
       "    </tr>\n",
       "    <tr>\n",
       "      <th>13</th>\n",
       "      <td>united kingdom</td>\n",
       "      <td>55-64</td>\n",
       "      <td>0.128913</td>\n",
       "    </tr>\n",
       "    <tr>\n",
       "      <th>14</th>\n",
       "      <td>italy</td>\n",
       "      <td>55-64</td>\n",
       "      <td>0.149050</td>\n",
       "    </tr>\n",
       "    <tr>\n",
       "      <th>15</th>\n",
       "      <td>france</td>\n",
       "      <td>55-64</td>\n",
       "      <td>0.134354</td>\n",
       "    </tr>\n",
       "    <tr>\n",
       "      <th>16</th>\n",
       "      <td>saudi arabia</td>\n",
       "      <td>65-74</td>\n",
       "      <td>0.018466</td>\n",
       "    </tr>\n",
       "    <tr>\n",
       "      <th>17</th>\n",
       "      <td>united kingdom</td>\n",
       "      <td>65-74</td>\n",
       "      <td>0.106467</td>\n",
       "    </tr>\n",
       "    <tr>\n",
       "      <th>18</th>\n",
       "      <td>italy</td>\n",
       "      <td>65-74</td>\n",
       "      <td>0.119378</td>\n",
       "    </tr>\n",
       "    <tr>\n",
       "      <th>19</th>\n",
       "      <td>france</td>\n",
       "      <td>65-74</td>\n",
       "      <td>0.118474</td>\n",
       "    </tr>\n",
       "    <tr>\n",
       "      <th>20</th>\n",
       "      <td>saudi arabia</td>\n",
       "      <td>75+</td>\n",
       "      <td>0.009224</td>\n",
       "    </tr>\n",
       "    <tr>\n",
       "      <th>21</th>\n",
       "      <td>united kingdom</td>\n",
       "      <td>75+</td>\n",
       "      <td>0.090784</td>\n",
       "    </tr>\n",
       "    <tr>\n",
       "      <th>22</th>\n",
       "      <td>italy</td>\n",
       "      <td>75+</td>\n",
       "      <td>0.123519</td>\n",
       "    </tr>\n",
       "    <tr>\n",
       "      <th>23</th>\n",
       "      <td>france</td>\n",
       "      <td>75+</td>\n",
       "      <td>0.100721</td>\n",
       "    </tr>\n",
       "  </tbody>\n",
       "</table>\n",
       "</div>"
      ]
     },
     "execution_count": 27,
     "metadata": {},
     "output_type": "execute_result"
    }
   ],
   "execution_count": 27
  },
  {
   "metadata": {
    "ExecuteTime": {
     "end_time": "2025-08-27T16:19:50.139429Z",
     "start_time": "2025-08-27T16:19:50.136456Z"
    }
   },
   "cell_type": "code",
   "source": [
    "# save the table\n",
    "age.to_csv(\"data_output/age_shares_ifr_bins.csv\", index=False)"
   ],
   "id": "b9ff4553fd54a23",
   "outputs": [],
   "execution_count": 28
  },
  {
   "metadata": {},
   "cell_type": "markdown",
   "source": "Now, the big merge",
   "id": "3c27334ddf101058"
  },
  {
   "metadata": {
    "ExecuteTime": {
     "end_time": "2025-08-27T16:19:51.331970Z",
     "start_time": "2025-08-27T16:19:51.328817Z"
    }
   },
   "cell_type": "code",
   "source": [
    "# build (country, week, age_group) grid and attach shares + weekly ifr (low/med/high)\n",
    "\n",
    "week_index = np.sort(wk[\"week\"].unique())\n",
    "\n",
    "countries = np.sort(wk[\"country\"].str.lower().unique())\n",
    "weeks = week_index"
   ],
   "id": "f70ba5bf1e8a08cb",
   "outputs": [],
   "execution_count": 29
  },
  {
   "metadata": {
    "ExecuteTime": {
     "end_time": "2025-08-27T16:19:52.933749Z",
     "start_time": "2025-08-27T16:19:52.922076Z"
    }
   },
   "cell_type": "code",
   "source": [
    "grid = pd.MultiIndex.from_product([countries, weeks], names=[\"country\", \"week\"]).to_frame(index=False)\n",
    "grid = grid.merge(age, on=\"country\", how=\"left\")\n",
    "grid = grid.merge(ifr_med_week, on=[\"week\",\"age_group\"], how=\"left\")\n",
    "grid = grid.merge(ifr_low_week, on=[\"week\",\"age_group\"], how=\"left\", suffixes=(\"\", \"_drop1\"))\n",
    "grid = grid.merge(ifr_high_week, on=[\"week\",\"age_group\"], how=\"left\", suffixes=(\"\", \"_drop2\"))\n",
    "\n",
    "# jhu data start much earlier than IFR data, so I'm just going to drop the early weeks\n",
    "grid = grid[grid[\"ifr_med\"].notna()].copy()\n",
    "\n",
    "grid[\"w_ifr_med\"]  = grid[\"share\"] * grid[\"ifr_med\"]\n",
    "grid[\"w_ifr_low\"]  = grid[\"share\"] * grid[\"ifr_low\"]\n",
    "grid[\"w_ifr_high\"] = grid[\"share\"] * grid[\"ifr_high\"]\n",
    "\n",
    "grid['country'].unique()"
   ],
   "id": "2e4b1b840b82e9d8",
   "outputs": [
    {
     "data": {
      "text/plain": [
       "array(['france', 'italy', 'saudi arabia', 'united kingdom'], dtype=object)"
      ]
     },
     "execution_count": 30,
     "metadata": {},
     "output_type": "execute_result"
    }
   ],
   "execution_count": 30
  },
  {
   "metadata": {
    "ExecuteTime": {
     "end_time": "2025-08-27T16:19:58.773328Z",
     "start_time": "2025-08-27T16:19:58.768630Z"
    }
   },
   "cell_type": "code",
   "source": [
    "# weekly IFR for every country\n",
    "\n",
    "ifr_country_week = (\n",
    "    grid.groupby([\"country\",\"week\"], as_index=False)[[\"w_ifr_low\",\"w_ifr_med\",\"w_ifr_high\"]]\n",
    "        .sum()\n",
    "        .rename(columns={\n",
    "            \"w_ifr_low\":  \"ifr_low_w\",\n",
    "            \"w_ifr_med\":  \"ifr_med_w\",\n",
    "            \"w_ifr_high\": \"ifr_high_w\"\n",
    "        })\n",
    ")"
   ],
   "id": "b637bde41d1d0c03",
   "outputs": [],
   "execution_count": 31
  },
  {
   "metadata": {
    "ExecuteTime": {
     "end_time": "2025-08-27T16:20:00.541293Z",
     "start_time": "2025-08-27T16:20:00.536492Z"
    }
   },
   "cell_type": "code",
   "source": [
    "out = (\n",
    "    wk.assign(country=wk[\"country\"].str.lower())\n",
    "      .merge(ifr_country_week, on=[\"country\",\"week\"], how=\"inner\")  # <- inner, not left\n",
    "      .dropna(subset=[\"deaths_w_back2w\"])  # drop last 2 weeks with no back-shifted deaths\n",
    ")"
   ],
   "id": "4b008c14188aae4e",
   "outputs": [],
   "execution_count": 32
  },
  {
   "metadata": {
    "ExecuteTime": {
     "end_time": "2025-08-27T16:20:02.270393Z",
     "start_time": "2025-08-27T16:20:02.264900Z"
    }
   },
   "cell_type": "code",
   "source": [
    "# detection fraction\n",
    "out[\"det_frac_low\"]  = (out[\"ifr_low_w\"] / out[\"dcfr\"]).clip(0, 1)\n",
    "out[\"det_frac_med\"]  = (out[\"ifr_med_w\"] / out[\"dcfr\"]).clip(0, 1)\n",
    "out[\"det_frac_high\"] = (out[\"ifr_high_w\"] / out[\"dcfr\"]).clip(0, 1)\n",
    "\n",
    "# infections — death-based (uses deaths shifted back 2w)\n",
    "out[\"inf_death_low\"] = out[\"deaths_w_back2w\"] / out[\"ifr_low_w\"]\n",
    "out[\"inf_death_med\"] = out[\"deaths_w_back2w\"] / out[\"ifr_med_w\"]\n",
    "out[\"inf_death_high\"] = out[\"deaths_w_back2w\"] / out[\"ifr_high_w\"]\n",
    "\n",
    "# infections — case-based\n",
    "out[\"inf_case_low\"] = out[\"cases_w\"] * (out[\"dcfr\"] / out[\"ifr_low_w\"])\n",
    "out[\"inf_case_med\"] = out[\"cases_w\"] * (out[\"dcfr\"] / out[\"ifr_med_w\"])\n",
    "out[\"inf_case_high\"] = out[\"cases_w\"] * (out[\"dcfr\"] / out[\"ifr_high_w\"])"
   ],
   "id": "a210ace8f84020fc",
   "outputs": [],
   "execution_count": 33
  },
  {
   "metadata": {
    "ExecuteTime": {
     "end_time": "2025-08-27T16:20:03.578318Z",
     "start_time": "2025-08-27T16:20:03.573832Z"
    }
   },
   "cell_type": "code",
   "source": [
    "# QUICK SANITY CHECK - I AM LOSING MY MIND\n",
    "print(out.isna().sum())\n",
    "print(out.groupby(\"country\")[[\"week\"]].count().head()) # weeks kept per country"
   ],
   "id": "f1f3f3c52aa4092a",
   "outputs": [
    {
     "name": "stdout",
     "output_type": "stream",
     "text": [
      "country            0\n",
      "week               0\n",
      "cases_w            0\n",
      "deaths_w           0\n",
      "deaths_w_back2w    0\n",
      "dcfr               0\n",
      "ifr_low_w          0\n",
      "ifr_med_w          0\n",
      "ifr_high_w         0\n",
      "det_frac_low       0\n",
      "det_frac_med       0\n",
      "det_frac_high      0\n",
      "inf_death_low      0\n",
      "inf_death_med      0\n",
      "inf_death_high     0\n",
      "inf_case_low       0\n",
      "inf_case_med       0\n",
      "inf_case_high      0\n",
      "dtype: int64\n",
      "                week\n",
      "country             \n",
      "france           135\n",
      "italy            135\n",
      "saudi arabia     135\n",
      "united kingdom   135\n"
     ]
    }
   ],
   "execution_count": 34
  },
  {
   "metadata": {
    "ExecuteTime": {
     "end_time": "2025-08-27T11:36:25.047468Z",
     "start_time": "2025-08-27T11:36:25.036426Z"
    }
   },
   "cell_type": "code",
   "source": "out.to_csv(\"data_output/est_infections_weekly.csv\", index=False)",
   "id": "2b653ffa06078c7f",
   "outputs": [],
   "execution_count": 206
  },
  {
   "metadata": {},
   "cell_type": "markdown",
   "source": [
    "Perfect. Now we move to RStudio for plotting.\n",
    "Sorry. I don't know how to plot with python."
   ],
   "id": "fc58b44b77ddc7d"
  }
 ],
 "metadata": {
  "kernelspec": {
   "display_name": "Python 3",
   "language": "python",
   "name": "python3"
  },
  "language_info": {
   "codemirror_mode": {
    "name": "ipython",
    "version": 2
   },
   "file_extension": ".py",
   "mimetype": "text/x-python",
   "name": "python",
   "nbconvert_exporter": "python",
   "pygments_lexer": "ipython2",
   "version": "2.7.6"
  }
 },
 "nbformat": 4,
 "nbformat_minor": 5
}
